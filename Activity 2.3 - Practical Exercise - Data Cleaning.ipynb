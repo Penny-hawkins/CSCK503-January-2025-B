{
 "cells": [
  {
   "cell_type": "code",
   "execution_count": 1,
   "id": "17af9e68",
   "metadata": {},
   "outputs": [],
   "source": [
    "import pandas as pd\n",
    "import matplotlib.pyplot as plt"
   ]
  },
  {
   "cell_type": "raw",
   "id": "ff6628c9",
   "metadata": {},
   "source": [
    "#load the data"
   ]
  },
  {
   "cell_type": "code",
   "execution_count": 8,
   "id": "90bdc6c8",
   "metadata": {},
   "outputs": [],
   "source": [
    "usedcars_noisy = pd.read_csv('usedcars_noisy.csv')"
   ]
  },
  {
   "cell_type": "raw",
   "id": "ddf3b920",
   "metadata": {},
   "source": [
    "#show its contents"
   ]
  },
  {
   "cell_type": "code",
   "execution_count": 9,
   "id": "758fa6e9",
   "metadata": {},
   "outputs": [
    {
     "name": "stdout",
     "output_type": "stream",
     "text": [
      "     year model  price  mileage   color transmission\n",
      "0    2011   SEL  21992     7413  Yellow         AUTO\n",
      "1    2011   SEL  20995    10926    Gray         AUTO\n",
      "2    2011   SEL  29995       -1    Gray         AUTO\n",
      "3    2011   SEL  19995     7351  Silver         AUTO\n",
      "4    2011   SEL  17809    11613    Gray         AUTO\n",
      "..    ...   ...    ...      ...     ...          ...\n",
      "155  2001    SE   4899   151479  Yellow         AUTO\n",
      "156  2000    SE   3800   109259     Red         AUTO\n",
      "157  2010   SES      0    16035     Red       MANUAL\n",
      "158  2005   SES   8488       -1     Red         AUTO\n",
      "159  2004    SE      0       -1  Silver         AUTO\n",
      "\n",
      "[160 rows x 6 columns]\n"
     ]
    }
   ],
   "source": [
    "print(usedcars_noisy)"
   ]
  },
  {
   "cell_type": "raw",
   "id": "cc74bea4",
   "metadata": {},
   "source": [
    "#carry out the data preparation replacements"
   ]
  },
  {
   "cell_type": "code",
   "execution_count": 45,
   "id": "a0b5d5c5",
   "metadata": {},
   "outputs": [],
   "source": [
    "usedcars_noisy['price'].replace(0, usedcars_noisy['price'].mean(), inplace=True )\n",
    "usedcars_noisy['mileage'].replace(-1, usedcars_noisy['mileage'].median(), inplace=True )"
   ]
  },
  {
   "cell_type": "raw",
   "id": "123cda68",
   "metadata": {},
   "source": [
    "#save the cleaned file to a new csv"
   ]
  },
  {
   "cell_type": "code",
   "execution_count": 46,
   "id": "ae010f09",
   "metadata": {},
   "outputs": [],
   "source": [
    "usedcars_noisy.to_csv('usedcars_clean.csv', index=False)"
   ]
  },
  {
   "cell_type": "raw",
   "id": "d1448f66",
   "metadata": {},
   "source": [
    "#open and print clean file"
   ]
  },
  {
   "cell_type": "code",
   "execution_count": 47,
   "id": "365692d1",
   "metadata": {},
   "outputs": [],
   "source": [
    "usedcars_clean = pd.read_csv('usedcars_clean.csv')"
   ]
  },
  {
   "cell_type": "code",
   "execution_count": 48,
   "id": "341702fc",
   "metadata": {},
   "outputs": [
    {
     "name": "stdout",
     "output_type": "stream",
     "text": [
      "     year model     price  mileage   color transmission\n",
      "0    2011   SEL  21992.00     7413  Yellow         AUTO\n",
      "1    2011   SEL  20995.00    10926    Gray         AUTO\n",
      "2    2011   SEL  29995.00    36120    Gray         AUTO\n",
      "3    2011   SEL  19995.00     7351  Silver         AUTO\n",
      "4    2011   SEL  17809.00    11613    Gray         AUTO\n",
      "..    ...   ...       ...      ...     ...          ...\n",
      "155  2001    SE   4899.00   151479  Yellow         AUTO\n",
      "156  2000    SE   3800.00   109259     Red         AUTO\n",
      "157  2010   SES  12717.55    16035     Red       MANUAL\n",
      "158  2005   SES   8488.00    36120     Red         AUTO\n",
      "159  2004    SE  12717.55    36120  Silver         AUTO\n",
      "\n",
      "[160 rows x 6 columns]\n"
     ]
    }
   ],
   "source": [
    "print(usedcars_clean)"
   ]
  },
  {
   "cell_type": "raw",
   "id": "e4f2fd3c",
   "metadata": {},
   "source": [
    "#generate and display the data histogram"
   ]
  },
  {
   "cell_type": "code",
   "execution_count": 51,
   "id": "45bd8ee5",
   "metadata": {},
   "outputs": [
    {
     "ename": "ConversionError",
     "evalue": "Failed to convert value(s) to axis units: array(['SEL', 'SEL', 'SEL', 'SEL', 'SEL', 'SE', 'SEL', 'SES', 'SEL',\n       'SEL', 'SES', 'SES', 'SES', 'SES', 'SES', 'SEL', 'SES', 'SE',\n       'SES', 'SEL', 'SES', 'SEL', 'SE', 'SEL', 'SES', 'SEL', 'SE', 'SES',\n       'SEL', 'SEL', 'SE', 'SE', 'SE', 'SEL', 'SES', 'SEL', 'SES', 'SE',\n       'SE', 'SEL', 'SES', 'SEL', 'SE', 'SEL', 'SE', 'SE', 'SE', 'SES',\n       'SES', 'SES', 'SES', 'SE', 'SES', 'SE', 'SE', 'SEL', 'SEL', 'SE',\n       'SES', 'SES', 'SE', 'SE', 'SE', 'SE', 'SES', 'SES', 'SES', 'SE',\n       'SES', 'SES', 'SE', 'SE', 'SE', 'SE', 'SE', 'SE', 'SE', 'SES',\n       'SES', 'SEL', 'SEL', 'SES', 'SEL', 'SES', 'SE', 'SE', 'SE', 'SES',\n       'SE', 'SE', 'SE', 'SE', 'SE', 'SE', 'SE', 'SE', 'SE', 'SE', 'SES',\n       'SE', 'SE', 'SE', 'SE', 'SES', 'SES', 'SE', 'SE', 'SE', 'SE', 'SE',\n       'SE', 'SES', 'SE', 'SE', 'SE', 'SES', 'SES', 'SE', 'SES', 'SES',\n       'SEL', 'SE', 'SE', 'SE', 'SE', 'SES', 'SE', 'SE', 'SES', 'SES',\n       'SES', 'SE', 'SE', 'SE', 'SE', 'SES', 'SE', 'SE', 'SE', 'SE', 'SE',\n       'SE', 'SES', 'SES', 'SES', 'SES', 'SES', 'SE', 'SE', 'SE', 'SES',\n       'SES', 'SES', 'SE', 'SE', 'SE', 'SE', 'SES', 'SES', 'SE'],\n      dtype=object)",
     "output_type": "error",
     "traceback": [
      "\u001b[1;31m---------------------------------------------------------------------------\u001b[0m",
      "\u001b[1;31mValueError\u001b[0m                                Traceback (most recent call last)",
      "File \u001b[1;32m~\\anaconda3\\Lib\\site-packages\\matplotlib\\axis.py:1732\u001b[0m, in \u001b[0;36mAxis.convert_units\u001b[1;34m(self, x)\u001b[0m\n\u001b[0;32m   1731\u001b[0m \u001b[38;5;28;01mtry\u001b[39;00m:\n\u001b[1;32m-> 1732\u001b[0m     ret \u001b[38;5;241m=\u001b[39m \u001b[38;5;28mself\u001b[39m\u001b[38;5;241m.\u001b[39mconverter\u001b[38;5;241m.\u001b[39mconvert(x, \u001b[38;5;28mself\u001b[39m\u001b[38;5;241m.\u001b[39munits, \u001b[38;5;28mself\u001b[39m)\n\u001b[0;32m   1733\u001b[0m \u001b[38;5;28;01mexcept\u001b[39;00m \u001b[38;5;167;01mException\u001b[39;00m \u001b[38;5;28;01mas\u001b[39;00m e:\n",
      "File \u001b[1;32m~\\anaconda3\\Lib\\site-packages\\matplotlib\\category.py:49\u001b[0m, in \u001b[0;36mStrCategoryConverter.convert\u001b[1;34m(value, unit, axis)\u001b[0m\n\u001b[0;32m     48\u001b[0m \u001b[38;5;28;01mif\u001b[39;00m unit \u001b[38;5;129;01mis\u001b[39;00m \u001b[38;5;28;01mNone\u001b[39;00m:\n\u001b[1;32m---> 49\u001b[0m     \u001b[38;5;28;01mraise\u001b[39;00m \u001b[38;5;167;01mValueError\u001b[39;00m(\n\u001b[0;32m     50\u001b[0m         \u001b[38;5;124m'\u001b[39m\u001b[38;5;124mMissing category information for StrCategoryConverter; \u001b[39m\u001b[38;5;124m'\u001b[39m\n\u001b[0;32m     51\u001b[0m         \u001b[38;5;124m'\u001b[39m\u001b[38;5;124mthis might be caused by unintendedly mixing categorical and \u001b[39m\u001b[38;5;124m'\u001b[39m\n\u001b[0;32m     52\u001b[0m         \u001b[38;5;124m'\u001b[39m\u001b[38;5;124mnumeric data\u001b[39m\u001b[38;5;124m'\u001b[39m)\n\u001b[0;32m     53\u001b[0m StrCategoryConverter\u001b[38;5;241m.\u001b[39m_validate_unit(unit)\n",
      "\u001b[1;31mValueError\u001b[0m: Missing category information for StrCategoryConverter; this might be caused by unintendedly mixing categorical and numeric data",
      "\nThe above exception was the direct cause of the following exception:\n",
      "\u001b[1;31mConversionError\u001b[0m                           Traceback (most recent call last)",
      "Cell \u001b[1;32mIn[51], line 1\u001b[0m\n\u001b[1;32m----> 1\u001b[0m plt\u001b[38;5;241m.\u001b[39mhist(usedcars_noisy)\n\u001b[0;32m      2\u001b[0m plt\u001b[38;5;241m.\u001b[39mshow(price)\n",
      "File \u001b[1;32m~\\anaconda3\\Lib\\site-packages\\matplotlib\\pyplot.py:2645\u001b[0m, in \u001b[0;36mhist\u001b[1;34m(x, bins, range, density, weights, cumulative, bottom, histtype, align, orientation, rwidth, log, color, label, stacked, data, **kwargs)\u001b[0m\n\u001b[0;32m   2639\u001b[0m \u001b[38;5;129m@_copy_docstring_and_deprecators\u001b[39m(Axes\u001b[38;5;241m.\u001b[39mhist)\n\u001b[0;32m   2640\u001b[0m \u001b[38;5;28;01mdef\u001b[39;00m \u001b[38;5;21mhist\u001b[39m(\n\u001b[0;32m   2641\u001b[0m         x, bins\u001b[38;5;241m=\u001b[39m\u001b[38;5;28;01mNone\u001b[39;00m, \u001b[38;5;28mrange\u001b[39m\u001b[38;5;241m=\u001b[39m\u001b[38;5;28;01mNone\u001b[39;00m, density\u001b[38;5;241m=\u001b[39m\u001b[38;5;28;01mFalse\u001b[39;00m, weights\u001b[38;5;241m=\u001b[39m\u001b[38;5;28;01mNone\u001b[39;00m,\n\u001b[0;32m   2642\u001b[0m         cumulative\u001b[38;5;241m=\u001b[39m\u001b[38;5;28;01mFalse\u001b[39;00m, bottom\u001b[38;5;241m=\u001b[39m\u001b[38;5;28;01mNone\u001b[39;00m, histtype\u001b[38;5;241m=\u001b[39m\u001b[38;5;124m'\u001b[39m\u001b[38;5;124mbar\u001b[39m\u001b[38;5;124m'\u001b[39m, align\u001b[38;5;241m=\u001b[39m\u001b[38;5;124m'\u001b[39m\u001b[38;5;124mmid\u001b[39m\u001b[38;5;124m'\u001b[39m,\n\u001b[0;32m   2643\u001b[0m         orientation\u001b[38;5;241m=\u001b[39m\u001b[38;5;124m'\u001b[39m\u001b[38;5;124mvertical\u001b[39m\u001b[38;5;124m'\u001b[39m, rwidth\u001b[38;5;241m=\u001b[39m\u001b[38;5;28;01mNone\u001b[39;00m, log\u001b[38;5;241m=\u001b[39m\u001b[38;5;28;01mFalse\u001b[39;00m, color\u001b[38;5;241m=\u001b[39m\u001b[38;5;28;01mNone\u001b[39;00m,\n\u001b[0;32m   2644\u001b[0m         label\u001b[38;5;241m=\u001b[39m\u001b[38;5;28;01mNone\u001b[39;00m, stacked\u001b[38;5;241m=\u001b[39m\u001b[38;5;28;01mFalse\u001b[39;00m, \u001b[38;5;241m*\u001b[39m, data\u001b[38;5;241m=\u001b[39m\u001b[38;5;28;01mNone\u001b[39;00m, \u001b[38;5;241m*\u001b[39m\u001b[38;5;241m*\u001b[39mkwargs):\n\u001b[1;32m-> 2645\u001b[0m     \u001b[38;5;28;01mreturn\u001b[39;00m gca()\u001b[38;5;241m.\u001b[39mhist(\n\u001b[0;32m   2646\u001b[0m         x, bins\u001b[38;5;241m=\u001b[39mbins, \u001b[38;5;28mrange\u001b[39m\u001b[38;5;241m=\u001b[39m\u001b[38;5;28mrange\u001b[39m, density\u001b[38;5;241m=\u001b[39mdensity, weights\u001b[38;5;241m=\u001b[39mweights,\n\u001b[0;32m   2647\u001b[0m         cumulative\u001b[38;5;241m=\u001b[39mcumulative, bottom\u001b[38;5;241m=\u001b[39mbottom, histtype\u001b[38;5;241m=\u001b[39mhisttype,\n\u001b[0;32m   2648\u001b[0m         align\u001b[38;5;241m=\u001b[39malign, orientation\u001b[38;5;241m=\u001b[39morientation, rwidth\u001b[38;5;241m=\u001b[39mrwidth, log\u001b[38;5;241m=\u001b[39mlog,\n\u001b[0;32m   2649\u001b[0m         color\u001b[38;5;241m=\u001b[39mcolor, label\u001b[38;5;241m=\u001b[39mlabel, stacked\u001b[38;5;241m=\u001b[39mstacked,\n\u001b[0;32m   2650\u001b[0m         \u001b[38;5;241m*\u001b[39m\u001b[38;5;241m*\u001b[39m({\u001b[38;5;124m\"\u001b[39m\u001b[38;5;124mdata\u001b[39m\u001b[38;5;124m\"\u001b[39m: data} \u001b[38;5;28;01mif\u001b[39;00m data \u001b[38;5;129;01mis\u001b[39;00m \u001b[38;5;129;01mnot\u001b[39;00m \u001b[38;5;28;01mNone\u001b[39;00m \u001b[38;5;28;01melse\u001b[39;00m {}), \u001b[38;5;241m*\u001b[39m\u001b[38;5;241m*\u001b[39mkwargs)\n",
      "File \u001b[1;32m~\\anaconda3\\Lib\\site-packages\\matplotlib\\__init__.py:1446\u001b[0m, in \u001b[0;36m_preprocess_data.<locals>.inner\u001b[1;34m(ax, data, *args, **kwargs)\u001b[0m\n\u001b[0;32m   1443\u001b[0m \u001b[38;5;129m@functools\u001b[39m\u001b[38;5;241m.\u001b[39mwraps(func)\n\u001b[0;32m   1444\u001b[0m \u001b[38;5;28;01mdef\u001b[39;00m \u001b[38;5;21minner\u001b[39m(ax, \u001b[38;5;241m*\u001b[39margs, data\u001b[38;5;241m=\u001b[39m\u001b[38;5;28;01mNone\u001b[39;00m, \u001b[38;5;241m*\u001b[39m\u001b[38;5;241m*\u001b[39mkwargs):\n\u001b[0;32m   1445\u001b[0m     \u001b[38;5;28;01mif\u001b[39;00m data \u001b[38;5;129;01mis\u001b[39;00m \u001b[38;5;28;01mNone\u001b[39;00m:\n\u001b[1;32m-> 1446\u001b[0m         \u001b[38;5;28;01mreturn\u001b[39;00m func(ax, \u001b[38;5;241m*\u001b[39m\u001b[38;5;28mmap\u001b[39m(sanitize_sequence, args), \u001b[38;5;241m*\u001b[39m\u001b[38;5;241m*\u001b[39mkwargs)\n\u001b[0;32m   1448\u001b[0m     bound \u001b[38;5;241m=\u001b[39m new_sig\u001b[38;5;241m.\u001b[39mbind(ax, \u001b[38;5;241m*\u001b[39margs, \u001b[38;5;241m*\u001b[39m\u001b[38;5;241m*\u001b[39mkwargs)\n\u001b[0;32m   1449\u001b[0m     auto_label \u001b[38;5;241m=\u001b[39m (bound\u001b[38;5;241m.\u001b[39marguments\u001b[38;5;241m.\u001b[39mget(label_namer)\n\u001b[0;32m   1450\u001b[0m                   \u001b[38;5;129;01mor\u001b[39;00m bound\u001b[38;5;241m.\u001b[39mkwargs\u001b[38;5;241m.\u001b[39mget(label_namer))\n",
      "File \u001b[1;32m~\\anaconda3\\Lib\\site-packages\\matplotlib\\axes\\_axes.py:6712\u001b[0m, in \u001b[0;36mAxes.hist\u001b[1;34m(self, x, bins, range, density, weights, cumulative, bottom, histtype, align, orientation, rwidth, log, color, label, stacked, **kwargs)\u001b[0m\n\u001b[0;32m   6710\u001b[0m \u001b[38;5;28;01mif\u001b[39;00m orientation \u001b[38;5;241m==\u001b[39m \u001b[38;5;124m\"\u001b[39m\u001b[38;5;124mvertical\u001b[39m\u001b[38;5;124m\"\u001b[39m:\n\u001b[0;32m   6711\u001b[0m     convert_units \u001b[38;5;241m=\u001b[39m \u001b[38;5;28mself\u001b[39m\u001b[38;5;241m.\u001b[39mconvert_xunits\n\u001b[1;32m-> 6712\u001b[0m     x \u001b[38;5;241m=\u001b[39m [\u001b[38;5;241m*\u001b[39m\u001b[38;5;28mself\u001b[39m\u001b[38;5;241m.\u001b[39m_process_unit_info([(\u001b[38;5;124m\"\u001b[39m\u001b[38;5;124mx\u001b[39m\u001b[38;5;124m\"\u001b[39m, x[\u001b[38;5;241m0\u001b[39m])], kwargs),\n\u001b[0;32m   6713\u001b[0m          \u001b[38;5;241m*\u001b[39m\u001b[38;5;28mmap\u001b[39m(convert_units, x[\u001b[38;5;241m1\u001b[39m:])]\n\u001b[0;32m   6714\u001b[0m \u001b[38;5;28;01melse\u001b[39;00m:  \u001b[38;5;66;03m# horizontal\u001b[39;00m\n\u001b[0;32m   6715\u001b[0m     convert_units \u001b[38;5;241m=\u001b[39m \u001b[38;5;28mself\u001b[39m\u001b[38;5;241m.\u001b[39mconvert_yunits\n",
      "File \u001b[1;32m~\\anaconda3\\Lib\\site-packages\\matplotlib\\artist.py:281\u001b[0m, in \u001b[0;36mArtist.convert_xunits\u001b[1;34m(self, x)\u001b[0m\n\u001b[0;32m    279\u001b[0m \u001b[38;5;28;01mif\u001b[39;00m ax \u001b[38;5;129;01mis\u001b[39;00m \u001b[38;5;28;01mNone\u001b[39;00m \u001b[38;5;129;01mor\u001b[39;00m ax\u001b[38;5;241m.\u001b[39mxaxis \u001b[38;5;129;01mis\u001b[39;00m \u001b[38;5;28;01mNone\u001b[39;00m:\n\u001b[0;32m    280\u001b[0m     \u001b[38;5;28;01mreturn\u001b[39;00m x\n\u001b[1;32m--> 281\u001b[0m \u001b[38;5;28;01mreturn\u001b[39;00m ax\u001b[38;5;241m.\u001b[39mxaxis\u001b[38;5;241m.\u001b[39mconvert_units(x)\n",
      "File \u001b[1;32m~\\anaconda3\\Lib\\site-packages\\matplotlib\\axis.py:1734\u001b[0m, in \u001b[0;36mAxis.convert_units\u001b[1;34m(self, x)\u001b[0m\n\u001b[0;32m   1732\u001b[0m     ret \u001b[38;5;241m=\u001b[39m \u001b[38;5;28mself\u001b[39m\u001b[38;5;241m.\u001b[39mconverter\u001b[38;5;241m.\u001b[39mconvert(x, \u001b[38;5;28mself\u001b[39m\u001b[38;5;241m.\u001b[39munits, \u001b[38;5;28mself\u001b[39m)\n\u001b[0;32m   1733\u001b[0m \u001b[38;5;28;01mexcept\u001b[39;00m \u001b[38;5;167;01mException\u001b[39;00m \u001b[38;5;28;01mas\u001b[39;00m e:\n\u001b[1;32m-> 1734\u001b[0m     \u001b[38;5;28;01mraise\u001b[39;00m munits\u001b[38;5;241m.\u001b[39mConversionError(\u001b[38;5;124m'\u001b[39m\u001b[38;5;124mFailed to convert value(s) to axis \u001b[39m\u001b[38;5;124m'\u001b[39m\n\u001b[0;32m   1735\u001b[0m                                  \u001b[38;5;124mf\u001b[39m\u001b[38;5;124m'\u001b[39m\u001b[38;5;124munits: \u001b[39m\u001b[38;5;132;01m{\u001b[39;00mx\u001b[38;5;132;01m!r}\u001b[39;00m\u001b[38;5;124m'\u001b[39m) \u001b[38;5;28;01mfrom\u001b[39;00m \u001b[38;5;21;01me\u001b[39;00m\n\u001b[0;32m   1736\u001b[0m \u001b[38;5;28;01mreturn\u001b[39;00m ret\n",
      "\u001b[1;31mConversionError\u001b[0m: Failed to convert value(s) to axis units: array(['SEL', 'SEL', 'SEL', 'SEL', 'SEL', 'SE', 'SEL', 'SES', 'SEL',\n       'SEL', 'SES', 'SES', 'SES', 'SES', 'SES', 'SEL', 'SES', 'SE',\n       'SES', 'SEL', 'SES', 'SEL', 'SE', 'SEL', 'SES', 'SEL', 'SE', 'SES',\n       'SEL', 'SEL', 'SE', 'SE', 'SE', 'SEL', 'SES', 'SEL', 'SES', 'SE',\n       'SE', 'SEL', 'SES', 'SEL', 'SE', 'SEL', 'SE', 'SE', 'SE', 'SES',\n       'SES', 'SES', 'SES', 'SE', 'SES', 'SE', 'SE', 'SEL', 'SEL', 'SE',\n       'SES', 'SES', 'SE', 'SE', 'SE', 'SE', 'SES', 'SES', 'SES', 'SE',\n       'SES', 'SES', 'SE', 'SE', 'SE', 'SE', 'SE', 'SE', 'SE', 'SES',\n       'SES', 'SEL', 'SEL', 'SES', 'SEL', 'SES', 'SE', 'SE', 'SE', 'SES',\n       'SE', 'SE', 'SE', 'SE', 'SE', 'SE', 'SE', 'SE', 'SE', 'SE', 'SES',\n       'SE', 'SE', 'SE', 'SE', 'SES', 'SES', 'SE', 'SE', 'SE', 'SE', 'SE',\n       'SE', 'SES', 'SE', 'SE', 'SE', 'SES', 'SES', 'SE', 'SES', 'SES',\n       'SEL', 'SE', 'SE', 'SE', 'SE', 'SES', 'SE', 'SE', 'SES', 'SES',\n       'SES', 'SE', 'SE', 'SE', 'SE', 'SES', 'SE', 'SE', 'SE', 'SE', 'SE',\n       'SE', 'SES', 'SES', 'SES', 'SES', 'SES', 'SE', 'SE', 'SE', 'SES',\n       'SES', 'SES', 'SE', 'SE', 'SE', 'SE', 'SES', 'SES', 'SE'],\n      dtype=object)"
     ]
    },
    {
     "data": {
      "image/png": "[encoded data removed]",
      "text/plain": [
       "<Figure size 640x480 with 1 Axes>"
      ]
     },
     "metadata": {},
     "output_type": "display_data"
    }
   ],
   "source": [
    "plt.hist(usedcars_noisy)\n",
    "plt.show()"
   ]
  },
  {
   "cell_type": "code",
   "execution_count": null,
   "id": "fc9c7dce",
   "metadata": {},
   "outputs": [],
   "source": []
  }
 ],
 "metadata": {
  "kernelspec": {
   "display_name": "Python 3 (ipykernel)",
   "language": "python",
   "name": "python3"
  },
  "language_info": {
   "codemirror_mode": {
    "name": "ipython",
    "version": 3
   },
   "file_extension": ".py",
   "mimetype": "text/x-python",
   "name": "python",
   "nbconvert_exporter": "python",
   "pygments_lexer": "ipython3",
   "version": "3.11.5"
  }
 },
 "nbformat": 4,
 "nbformat_minor": 5
}
