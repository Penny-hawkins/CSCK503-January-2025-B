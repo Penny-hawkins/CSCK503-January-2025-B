{
 "cells": [
  {
   "cell_type": "code",
   "execution_count": 2,
   "id": "17af9e68",
   "metadata": {},
   "outputs": [],
   "source": [
    "import pandas as pd\n",
    "import matplotlib.pyplot as plt"
   ]
  },
  {
   "cell_type": "raw",
   "id": "ff6628c9",
   "metadata": {},
   "source": [
    "#load the data"
   ]
  },
  {
   "cell_type": "code",
   "execution_count": 3,
   "id": "90bdc6c8",
   "metadata": {},
   "outputs": [],
   "source": [
    "usedcars_noisy = pd.read_csv('usedcars_noisy.csv')"
   ]
  },
  {
   "cell_type": "raw",
   "id": "ddf3b920",
   "metadata": {},
   "source": [
    "#show its contents"
   ]
  },
  {
   "cell_type": "code",
   "execution_count": 4,
   "id": "758fa6e9",
   "metadata": {},
   "outputs": [
    {
     "name": "stdout",
     "output_type": "stream",
     "text": [
      "     year model  price  mileage   color transmission\n",
      "0    2011   SEL  21992     7413  Yellow         AUTO\n",
      "1    2011   SEL  20995    10926    Gray         AUTO\n",
      "2    2011   SEL  29995       -1    Gray         AUTO\n",
      "3    2011   SEL  19995     7351  Silver         AUTO\n",
      "4    2011   SEL  17809    11613    Gray         AUTO\n",
      "..    ...   ...    ...      ...     ...          ...\n",
      "155  2001    SE   4899   151479  Yellow         AUTO\n",
      "156  2000    SE   3800   109259     Red         AUTO\n",
      "157  2010   SES      0    16035     Red       MANUAL\n",
      "158  2005   SES   8488       -1     Red         AUTO\n",
      "159  2004    SE      0       -1  Silver         AUTO\n",
      "\n",
      "[160 rows x 6 columns]\n"
     ]
    }
   ],
   "source": [
    "print(usedcars_noisy)"
   ]
  },
  {
   "cell_type": "raw",
   "id": "cc74bea4",
   "metadata": {},
   "source": [
    "#carry out the data preparation replacements"
   ]
  },
  {
   "cell_type": "code",
   "execution_count": 5,
   "id": "a0b5d5c5",
   "metadata": {},
   "outputs": [],
   "source": [
    "usedcars_noisy['price'].replace(0, usedcars_noisy['price'].mean(), inplace=True )\n",
    "usedcars_noisy['mileage'].replace(-1, usedcars_noisy['mileage'].median(), inplace=True )"
   ]
  },
  {
   "cell_type": "raw",
   "id": "123cda68",
   "metadata": {},
   "source": [
    "#save the cleaned file to a new csv"
   ]
  },
  {
   "cell_type": "code",
   "execution_count": 6,
   "id": "ae010f09",
   "metadata": {},
   "outputs": [],
   "source": [
    "usedcars_noisy.to_csv('usedcars_clean.csv', index=False)"
   ]
  },
  {
   "cell_type": "raw",
   "id": "d1448f66",
   "metadata": {},
   "source": [
    "#open and print clean file"
   ]
  },
  {
   "cell_type": "code",
   "execution_count": 7,
   "id": "365692d1",
   "metadata": {},
   "outputs": [],
   "source": [
    "usedcars_clean = pd.read_csv('usedcars_clean.csv')"
   ]
  },
  {
   "cell_type": "code",
   "execution_count": 48,
   "id": "341702fc",
   "metadata": {},
   "outputs": [
    {
     "name": "stdout",
     "output_type": "stream",
     "text": [
      "     year model     price  mileage   color transmission\n",
      "0    2011   SEL  21992.00     7413  Yellow         AUTO\n",
      "1    2011   SEL  20995.00    10926    Gray         AUTO\n",
      "2    2011   SEL  29995.00    36120    Gray         AUTO\n",
      "3    2011   SEL  19995.00     7351  Silver         AUTO\n",
      "4    2011   SEL  17809.00    11613    Gray         AUTO\n",
      "..    ...   ...       ...      ...     ...          ...\n",
      "155  2001    SE   4899.00   151479  Yellow         AUTO\n",
      "156  2000    SE   3800.00   109259     Red         AUTO\n",
      "157  2010   SES  12717.55    16035     Red       MANUAL\n",
      "158  2005   SES   8488.00    36120     Red         AUTO\n",
      "159  2004    SE  12717.55    36120  Silver         AUTO\n",
      "\n",
      "[160 rows x 6 columns]\n"
     ]
    }
   ],
   "source": [
    "print(usedcars_clean)"
   ]
  },
  {
   "cell_type": "raw",
   "id": "e4f2fd3c",
   "metadata": {},
   "source": [
    "#generate and display the data histogram"
   ]
  },
  {
   "cell_type": "code",
   "execution_count": 8,
   "id": "45bd8ee5",
   "metadata": {},
   "outputs": [
    {
     "data": {
      "image/png": "[encoded data removed]",
      "text/plain": [
       "<Figure size 640x480 with 1 Axes>"
      ]
     },
     "metadata": {},
     "output_type": "display_data"
    }
   ],
   "source": [
    "plt.hist(usedcars_noisy['mileage'])\n",
    "plt.hist(usedcars_noisy['price'])\n",
    "plt.hist(usedcars_noisy['year'])\n",
    "plt.show()"
   ]
  },
  {
   "cell_type": "code",
   "execution_count": null,
   "id": "fc9c7dce",
   "metadata": {},
   "outputs": [],
   "source": []
  }
 ],
 "metadata": {
  "kernelspec": {
   "display_name": "Python 3 (ipykernel)",
   "language": "python",
   "name": "python3"
  },
  "language_info": {
   "codemirror_mode": {
    "name": "ipython",
    "version": 3
   },
   "file_extension": ".py",
   "mimetype": "text/x-python",
   "name": "python",
   "nbconvert_exporter": "python",
   "pygments_lexer": "ipython3",
   "version": "3.11.5"
  }
 },
 "nbformat": 4,
 "nbformat_minor": 5
}
